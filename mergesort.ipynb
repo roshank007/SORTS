{
 "cells": [
  {
   "cell_type": "code",
   "execution_count": 1,
   "id": "533a3a2b",
   "metadata": {},
   "outputs": [],
   "source": [
    "#ROSHAN KALYANI\n",
    "#MERGE SORT"
   ]
  },
  {
   "cell_type": "markdown",
   "id": "c4143e45",
   "metadata": {},
   "source": [
    "# WINDOWS 11\n",
    "# ANACONDA 2.1.1\n",
    "# PYTHON 3.10"
   ]
  },
  {
   "cell_type": "code",
   "execution_count": 2,
   "id": "c753b8c3",
   "metadata": {},
   "outputs": [],
   "source": [
    "#DEFINING FUNCTION FOR MERGESORT\n",
    "def MergeSort(myList):\n",
    "    if len(myList) > 1:\n",
    "        mid = len(myList) // 2\n",
    "        left = myList[:mid]\n",
    "        right = myList[mid:]\n",
    "\n",
    "        # Recursive call on each half\n",
    "        MergeSort(left)\n",
    "        MergeSort(right)\n",
    "\n",
    "        # Two iterators for traversing the two halves\n",
    "        i = 0\n",
    "        j = 0\n",
    "        \n",
    "        # Iterator for the main list\n",
    "        k = 0\n",
    "        \n",
    "        while i < len(left) and j < len(right):\n",
    "            if left[i] <= right[j]:\n",
    "              # The value from the left half has been used\n",
    "              myList[k] = left[i]\n",
    "              # Move the iterator forward\n",
    "              i += 1\n",
    "            else:\n",
    "                myList[k] = right[j]\n",
    "                j += 1\n",
    "            # Move to the next slot\n",
    "            k += 1\n",
    "\n",
    "        # For all the remaining values\n",
    "        while i < len(left):\n",
    "            myList[k] = left[i]\n",
    "            i += 1\n",
    "            k += 1\n",
    "\n",
    "        while j < len(right):\n",
    "            myList[k]=right[j]\n",
    "            j += 1\n",
    "            k += 1\n"
   ]
  },
  {
   "cell_type": "code",
   "execution_count": 3,
   "id": "d89acbd9",
   "metadata": {},
   "outputs": [],
   "source": [
    "#CROSSCHECKING FUNCTION\n",
    "aaa = [34,21,44,55,78,32,10]\n",
    "MergeSort(aaa)"
   ]
  },
  {
   "cell_type": "code",
   "execution_count": 4,
   "id": "45b1f155",
   "metadata": {},
   "outputs": [
    {
     "data": {
      "text/plain": [
       "[10, 21, 32, 34, 44, 55, 78]"
      ]
     },
     "execution_count": 4,
     "metadata": {},
     "output_type": "execute_result"
    }
   ],
   "source": [
    "aaa"
   ]
  },
  {
   "cell_type": "code",
   "execution_count": 5,
   "id": "0dea1766",
   "metadata": {},
   "outputs": [
    {
     "name": "stdout",
     "output_type": "stream",
     "text": [
      "Enter total numbers want to sort in the list:\n",
      "5\n",
      "Enter number to add to my list:\n",
      "2\n",
      "Enter number to add to my list:\n",
      "1\n",
      "Enter number to add to my list:\n",
      "5\n",
      "Enter number to add to my list:\n",
      "9\n",
      "Enter number to add to my list:\n",
      "32\n",
      "[2, 1, 5, 9, 32]\n"
     ]
    }
   ],
   "source": [
    "##TO TAKE INPUT FROM USER\n",
    "my_list = [] \n",
    "n = int(input('Enter total numbers want to sort in the list:\\n')) \n",
    " \n",
    "for i in range(n): \n",
    "    temp = int(input('Enter number to add to my list:\\n')) \n",
    "    my_list.append(temp) \n",
    " \n",
    "print('Before Sorting',my_list)"
   ]
  },
  {
   "cell_type": "code",
   "execution_count": 6,
   "id": "0e927168",
   "metadata": {},
   "outputs": [
    {
     "name": "stdout",
     "output_type": "stream",
     "text": [
      "After Sorting [1, 2, 5, 9, 32]\n"
     ]
    }
   ],
   "source": [
    "MergeSort(my_list)\n",
    "print('After Sorting',my_list)"
   ]
  }
 ],
 "metadata": {
  "kernelspec": {
   "display_name": "Python 3 (ipykernel)",
   "language": "python",
   "name": "python3"
  },
  "language_info": {
   "codemirror_mode": {
    "name": "ipython",
    "version": 3
   },
   "file_extension": ".py",
   "mimetype": "text/x-python",
   "name": "python",
   "nbconvert_exporter": "python",
   "pygments_lexer": "ipython3",
   "version": "3.9.7"
  }
 },
 "nbformat": 4,
 "nbformat_minor": 5
}
