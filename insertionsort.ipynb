{
 "cells": [
  {
   "cell_type": "code",
   "execution_count": 1,
   "id": "61e8de12",
   "metadata": {},
   "outputs": [],
   "source": [
    "#ROSHAN KALYANI\n",
    "#QUICK SORT"
   ]
  },
  {
   "cell_type": "markdown",
   "id": "f7d9e161",
   "metadata": {},
   "source": [
    "# WINDOWS 11\n",
    "# ANACONDA 2.1.1\n",
    "# PYTHON 3.10"
   ]
  },
  {
   "cell_type": "code",
   "execution_count": 2,
   "id": "50b87512",
   "metadata": {},
   "outputs": [],
   "source": [
    "# Insertion sort \n",
    "def insertionSort(array):\n",
    "\n",
    "    for step in range(1, len(array)):\n",
    "        key = array[step]\n",
    "        j = step - 1\n",
    "        \n",
    "        # Compare key with each element on the left of it until an element smaller than it is found\n",
    "        # For descending order, change key<array[j] to key>array[j].        \n",
    "        while j >= 0 and key < array[j]:\n",
    "            array[j + 1] = array[j]\n",
    "            j = j - 1\n",
    "        \n",
    "        # Place key at after the element just smaller than it.\n",
    "        array[j + 1] = key\n",
    "\n"
   ]
  },
  {
   "cell_type": "code",
   "execution_count": 3,
   "id": "b22f9e3a",
   "metadata": {},
   "outputs": [],
   "source": [
    "#CROSSCHECKING FUNCTION\n",
    "aaa = [1,21,44,3,78,45,11]\n",
    "insertionSort(aaa)"
   ]
  },
  {
   "cell_type": "code",
   "execution_count": 4,
   "id": "0e8dd977",
   "metadata": {},
   "outputs": [
    {
     "data": {
      "text/plain": [
       "[1, 3, 11, 21, 44, 45, 78]"
      ]
     },
     "execution_count": 4,
     "metadata": {},
     "output_type": "execute_result"
    }
   ],
   "source": [
    "aaa"
   ]
  },
  {
   "cell_type": "code",
   "execution_count": 5,
   "id": "567024be",
   "metadata": {},
   "outputs": [
    {
     "name": "stdout",
     "output_type": "stream",
     "text": [
      "Enter total numbers want to sort in the list:\n",
      "4\n",
      "Enter number to add to my list:\n",
      "3\n",
      "Enter number to add to my list:\n",
      "1\n",
      "Enter number to add to my list:\n",
      "8\n",
      "Enter number to add to my list:\n",
      "0\n",
      "Before Sorting [3, 1, 8, 0]\n"
     ]
    }
   ],
   "source": [
    "##TO TAKE INPUT FROM USER\n",
    "my_list = [] \n",
    "n = int(input('Enter total numbers want to sort in the list:\\n')) \n",
    " \n",
    "for i in range(n): \n",
    "    temp = int(input('Enter number to add to my list:\\n')) \n",
    "    my_list.append(temp) \n",
    " \n",
    "print('Before Sorting',my_list)"
   ]
  },
  {
   "cell_type": "code",
   "execution_count": 6,
   "id": "f77f4243",
   "metadata": {},
   "outputs": [
    {
     "name": "stdout",
     "output_type": "stream",
     "text": [
      "After Sorting [0, 1, 3, 8]\n"
     ]
    }
   ],
   "source": [
    "insertionSort(my_list)\n",
    "print('After Sorting',my_list)"
   ]
  }
 ],
 "metadata": {
  "kernelspec": {
   "display_name": "Python 3 (ipykernel)",
   "language": "python",
   "name": "python3"
  },
  "language_info": {
   "codemirror_mode": {
    "name": "ipython",
    "version": 3
   },
   "file_extension": ".py",
   "mimetype": "text/x-python",
   "name": "python",
   "nbconvert_exporter": "python",
   "pygments_lexer": "ipython3",
   "version": "3.9.7"
  }
 },
 "nbformat": 4,
 "nbformat_minor": 5
}
