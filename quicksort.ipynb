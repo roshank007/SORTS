{
 "cells": [
  {
   "cell_type": "code",
   "execution_count": 1,
   "id": "329bccf8",
   "metadata": {},
   "outputs": [],
   "source": [
    "#ROSHAN KALYANI\n",
    "#QUICK SORT"
   ]
  },
  {
   "cell_type": "markdown",
   "id": "4268865a",
   "metadata": {},
   "source": [
    "# WINDOWS 11\n",
    "# ANACONDA 2.1.1\n",
    "# PYTHON 3.10"
   ]
  },
  {
   "cell_type": "code",
   "execution_count": 2,
   "id": "8fa0c4bd",
   "metadata": {},
   "outputs": [],
   "source": [
    "# Quick sort in Python\n",
    "\n",
    "# function to find the partition position\n",
    "def partition(array, low, high):\n",
    "\n",
    "  # choose the rightmost element as pivot\n",
    "  pivot = array[high]\n",
    "\n",
    "  # pointer for greater element\n",
    "  i = low - 1\n",
    "\n",
    "  # traverse through all elements\n",
    "  # compare each element with pivot\n",
    "  for j in range(low, high):\n",
    "    if array[j] <= pivot:\n",
    "      # if element smaller than pivot is found\n",
    "      # swap it with the greater element pointed by i\n",
    "      i = i + 1\n",
    "\n",
    "      # swapping element at i with element at j\n",
    "      (array[i], array[j]) = (array[j], array[i])\n",
    "\n",
    "  # swap the pivot element with the greater element specified by i\n",
    "  (array[i + 1], array[high]) = (array[high], array[i + 1])\n",
    "\n",
    "  # return the position from where partition is done\n",
    "  return i + 1\n",
    "\n",
    "# function to perform quicksort\n",
    "def quickSort(array, low, high):\n",
    "  if low < high:\n",
    "\n",
    "    # find pivot element such that\n",
    "    # element smaller than pivot are on the left\n",
    "    # element greater than pivot are on the right\n",
    "    pi = partition(array, low, high)\n",
    "\n",
    "    # recursive call on the left of pivot\n",
    "    quickSort(array, low, pi - 1)\n",
    "\n",
    "    # recursive call on the right of pivot\n",
    "    quickSort(array, pi + 1, high)\n",
    "\n",
    "\n",
    "\n",
    "\n",
    "#size = len(arraysize)\n",
    "#quickSort(data, 0, size - 1)\n"
   ]
  },
  {
   "cell_type": "code",
   "execution_count": 3,
   "id": "05d60168",
   "metadata": {},
   "outputs": [],
   "source": [
    "#CROSSCHECKING FUNCTION\n",
    "aaa = [34,21,44,56,78,32,11]\n",
    "quickSort(aaa,0,len(aaa)-1)"
   ]
  },
  {
   "cell_type": "code",
   "execution_count": 4,
   "id": "8cf0e293",
   "metadata": {},
   "outputs": [
    {
     "data": {
      "text/plain": [
       "[11, 21, 32, 34, 44, 56, 78]"
      ]
     },
     "execution_count": 4,
     "metadata": {},
     "output_type": "execute_result"
    }
   ],
   "source": [
    "aaa"
   ]
  },
  {
   "cell_type": "code",
   "execution_count": 5,
   "id": "d04e6714",
   "metadata": {},
   "outputs": [
    {
     "name": "stdout",
     "output_type": "stream",
     "text": [
      "Enter total numbers want to sort in the list:\n",
      "7\n",
      "Enter number to add to my list:\n",
      "3\n",
      "Enter number to add to my list:\n",
      "21\n",
      "Enter number to add to my list:\n",
      "14\n",
      "Enter number to add to my list:\n",
      "18\n",
      "Enter number to add to my list:\n",
      "42\n",
      "Enter number to add to my list:\n",
      "70\n",
      "Enter number to add to my list:\n",
      "16\n",
      "Before Sorting [3, 21, 14, 18, 42, 70, 16]\n"
     ]
    }
   ],
   "source": [
    "##TO TAKE INPUT FROM USER\n",
    "my_list = [] \n",
    "n = int(input('Enter total numbers want to sort in the list:\\n')) \n",
    " \n",
    "for i in range(n): \n",
    "    temp = int(input('Enter number to add to my list:\\n')) \n",
    "    my_list.append(temp) \n",
    " \n",
    "print('Before Sorting',my_list)"
   ]
  },
  {
   "cell_type": "code",
   "execution_count": 6,
   "id": "ad0e5e0e",
   "metadata": {},
   "outputs": [
    {
     "name": "stdout",
     "output_type": "stream",
     "text": [
      "After Sorting [3, 14, 16, 18, 21, 42, 70]\n"
     ]
    }
   ],
   "source": [
    "quickSort(my_list,0,len(my_list)-1)\n",
    "print('After Sorting',my_list)"
   ]
  }
 ],
 "metadata": {
  "kernelspec": {
   "display_name": "Python 3 (ipykernel)",
   "language": "python",
   "name": "python3"
  },
  "language_info": {
   "codemirror_mode": {
    "name": "ipython",
    "version": 3
   },
   "file_extension": ".py",
   "mimetype": "text/x-python",
   "name": "python",
   "nbconvert_exporter": "python",
   "pygments_lexer": "ipython3",
   "version": "3.9.7"
  }
 },
 "nbformat": 4,
 "nbformat_minor": 5
}
